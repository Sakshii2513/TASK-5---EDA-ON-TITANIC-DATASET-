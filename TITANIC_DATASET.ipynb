{
  "nbformat": 4,
  "nbformat_minor": 0,
  "metadata": {
    "colab": {
      "private_outputs": true,
      "provenance": []
    },
    "kernelspec": {
      "name": "python3",
      "display_name": "Python 3"
    },
    "language_info": {
      "name": "python"
    }
  },
  "cells": [
    {
      "cell_type": "code",
      "execution_count": null,
      "metadata": {
        "id": "irpG_WcpsZkk"
      },
      "outputs": [],
      "source": [
        "import numpy as np\n",
        "import pandas as pd\n",
        "import matplotlib.pyplot as plt\n",
        "import seaborn as sns"
      ]
    },
    {
      "cell_type": "code",
      "source": [
        "df = pd.read_csv(\"Titanic.csv\")"
      ],
      "metadata": {
        "id": "eLSyj_4PtoxX"
      },
      "execution_count": null,
      "outputs": []
    },
    {
      "cell_type": "code",
      "source": [
        "print(df.shape)"
      ],
      "metadata": {
        "id": "nZtexXm8v2Yc"
      },
      "execution_count": null,
      "outputs": []
    },
    {
      "cell_type": "code",
      "source": [
        "df.info()"
      ],
      "metadata": {
        "id": "TkSNNnGTuZt3"
      },
      "execution_count": null,
      "outputs": []
    },
    {
      "cell_type": "code",
      "source": [
        "df.isnull().sum()"
      ],
      "metadata": {
        "id": "Bmh-rDDXvVWJ"
      },
      "execution_count": null,
      "outputs": []
    },
    {
      "cell_type": "code",
      "source": [
        "df.head(10)"
      ],
      "metadata": {
        "id": "gIeo3KJatsAR"
      },
      "execution_count": null,
      "outputs": []
    },
    {
      "cell_type": "code",
      "source": [
        "df.describe()"
      ],
      "metadata": {
        "id": "oqJq3RBjuhf3"
      },
      "execution_count": null,
      "outputs": []
    },
    {
      "cell_type": "code",
      "source": [
        "sns.countplot(x='Survived', data=train);"
      ],
      "metadata": {
        "id": "jV1KvsfyukG1"
      },
      "execution_count": null,
      "outputs": []
    },
    {
      "cell_type": "code",
      "source": [
        "df.groupby(['Survived','Sex'])['Survived'].count()"
      ],
      "metadata": {
        "id": "CEeLuegsuoDc"
      },
      "execution_count": null,
      "outputs": []
    },
    {
      "cell_type": "code",
      "source": [
        "train[train['Sex'] == 'male'].Survived.groupby(train.Survived).count().plot(kind='pie', figsize=(6, 6),explode=[0,0.05],autopct='%1.1f%%')\n",
        "plt.axis('equal')\n",
        "plt.legend([\"Perished\",\"Survived\"])\n",
        "plt.title(\"Male survival rate\")\n",
        "plt.show()"
      ],
      "metadata": {
        "id": "IoND3OHiuson"
      },
      "execution_count": null,
      "outputs": []
    },
    {
      "cell_type": "code",
      "source": [
        "train[train['Sex'] == 'female'].Survived.groupby(train.Survived).count().plot(kind='pie',autopct='%1.1f%%',figsize=(6, 6),explode=[0,0.05])\n",
        "plt.axis('equal')\n",
        "plt.title(\"Female survival rate\")\n",
        "plt.legend([\"Perished\",\"Survived\"])\n",
        "plt.show()"
      ],
      "metadata": {
        "id": "UV3dZOriuvwP"
      },
      "execution_count": null,
      "outputs": []
    },
    {
      "cell_type": "code",
      "source": [
        "pd.crosstab(train.Pclass, train.Survived, margins=True)"
      ],
      "metadata": {
        "id": "6Heu80smuzBi"
      },
      "execution_count": null,
      "outputs": []
    },
    {
      "cell_type": "code",
      "source": [
        "sns.countplot(x='Survived', data=train,hue = 'Embarked');"
      ],
      "metadata": {
        "id": "66q9GdA_u1g-"
      },
      "execution_count": null,
      "outputs": []
    },
    {
      "cell_type": "code",
      "source": [
        "sns.catplot(x =\"Sex\", hue =\"Survived\",\n",
        "kind =\"count\", data = df)"
      ],
      "metadata": {
        "id": "ARSHj2hyvdow"
      },
      "execution_count": null,
      "outputs": []
    },
    {
      "cell_type": "code",
      "source": [
        "pd.crosstab([train.Sex, train.Survived], [train.SibSp, train.Pclass], margins=True)"
      ],
      "metadata": {
        "id": "9ZmCSxM9u5go"
      },
      "execution_count": null,
      "outputs": []
    },
    {
      "cell_type": "code",
      "source": [
        "pd.crosstab([train.Sex, train.Survived], [train.Parch, train.Pclass], margins=True)"
      ],
      "metadata": {
        "id": "j7RBVeeau8dJ"
      },
      "execution_count": null,
      "outputs": []
    },
    {
      "cell_type": "code",
      "source": [
        "sns.pairplot(train.drop(\"Name\",axis = 1).dropna(),hue = \"Survived\")"
      ],
      "metadata": {
        "id": "FfaEstO9u-oX"
      },
      "execution_count": null,
      "outputs": []
    },
    {
      "cell_type": "code",
      "source": [
        "train.groupby('Survived').describe()['Age']"
      ],
      "metadata": {
        "id": "gO0ePS3ZvLZW"
      },
      "execution_count": null,
      "outputs": []
    },
    {
      "cell_type": "code",
      "source": [
        "embarked_passenger_class_pivot_table = train.pivot_table(values=['Survived'], index=['Embarked', 'Pclass'])\n",
        "embarked_passenger_class_pivot_table"
      ],
      "metadata": {
        "id": "yEXr2iCBwRIo"
      },
      "execution_count": null,
      "outputs": []
    },
    {
      "source": [
        "train['In_Cabin'] = train['Cabin'].notna().astype(int)\n",
        "\n",
        "g = sns.catplot(col=\"In_Cabin\", x='Pclass', hue=\"Survived\", kind=\"count\", data=train.sort_values(by='Pclass'));\n",
        "new_labels = ['Died', 'Survived']\n",
        "for t, l in zip(g._legend.texts, new_labels):\n",
        "    t.set_text(l)\n",
        "g.fig.set_figwidth(16)\n",
        "g.set(xlabel=\"Passenger Class\")"
      ],
      "cell_type": "code",
      "metadata": {
        "id": "tzDO2lTEwe0t"
      },
      "execution_count": null,
      "outputs": []
    },
    {
      "cell_type": "code",
      "source": [
        "train['Ticket'].describe()"
      ],
      "metadata": {
        "id": "8d9UrAplwkjh"
      },
      "execution_count": null,
      "outputs": []
    },
    {
      "cell_type": "code",
      "source": [
        "plt.figure(figsize=(10, 6))\n",
        "# Assume df_vis was intended to be the dataframe 'df'\n",
        "sns.heatmap(df[['Survived', 'Pclass', 'Age', 'SibSp', 'Parch', 'Fare']].corr(), annot=True, cmap='coolwarm')\n",
        "plt.title(\"Correlation Heatmap\")\n",
        "plt.show()"
      ],
      "metadata": {
        "id": "5n7lEe6bxhbO"
      },
      "execution_count": null,
      "outputs": []
    },
    {
      "cell_type": "code",
      "source": [
        "plt.figure()\n",
        "sns.boxplot(data=df, x='Pclass', y='Fare')\n",
        "plt.title(\"Fare Distribution by Passenger Class\")\n",
        "plt.show()"
      ],
      "metadata": {
        "id": "VAEJ_y1gxmUS"
      },
      "execution_count": null,
      "outputs": []
    },
    {
      "cell_type": "code",
      "source": [
        "plt.figure()\n",
        "sns.scatterplot(data=df, x='Age', y='Fare', hue='Survived')\n",
        "plt.title(\"Age vs Fare Colored by Survival\")\n",
        "plt.show()"
      ],
      "metadata": {
        "id": "P9DdqELoxt87"
      },
      "execution_count": null,
      "outputs": []
    }
  ]
}